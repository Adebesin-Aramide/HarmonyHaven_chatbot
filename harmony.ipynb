{
 "cells": [
  {
   "cell_type": "code",
   "execution_count": 1,
   "metadata": {},
   "outputs": [
    {
     "name": "stderr",
     "output_type": "stream",
     "text": [
      "c:\\ProgramData\\Anaconda3\\envs\\araenv\\Lib\\site-packages\\pinecone\\index.py:4: TqdmExperimentalWarning: Using `tqdm.autonotebook.tqdm` in notebook mode. Use `tqdm.tqdm` instead to force console mode (e.g. in jupyter console)\n",
      "  from tqdm.autonotebook import tqdm\n"
     ]
    }
   ],
   "source": [
    "#importing the necessary libraries\n",
    "import os\n",
    "from langchain.document_loaders import DirectoryLoader\n",
    "from langchain.text_splitter import RecursiveCharacterTextSplitter\n",
    "from langchain.embeddings import SentenceTransformerEmbeddings\n",
    "from langchain.text_splitter import RecursiveCharacterTextSplitter\n",
    "import pinecone\n",
    "import streamlit as st\n",
    "import openai\n",
    "from langchain.vectorstores import Pinecone"
   ]
  },
  {
   "cell_type": "code",
   "execution_count": 2,
   "metadata": {},
   "outputs": [
    {
     "name": "stderr",
     "output_type": "stream",
     "text": [
      "2024-01-14 11:43:10.143 INFO    streamlit.runtime.secrets: Secrets found in multiple locations: C:\\Users\\aramide\\.streamlit\\secrets.toml, c:\\Users\\aramide\\Documents\\HarmonyHaven\\.streamlit\\secrets.toml. When multiple secret.toml files exist, local secrets will take precedence over global secrets.\n"
     ]
    },
    {
     "name": "stderr",
     "output_type": "stream",
     "text": [
      "2024-01-14 11:43:12.950 \n",
      "  \u001b[33m\u001b[1mWarning:\u001b[0m to view this Streamlit app on a browser, run it with the following\n",
      "  command:\n",
      "\n",
      "    streamlit run C:\\Users\\aramide\\AppData\\Roaming\\Python\\Python311\\site-packages\\ipykernel_launcher.py [ARGUMENTS]\n"
     ]
    }
   ],
   "source": [
    "st.write(\"Openai api key:\", st.secrets[\"OPENAI_API_KEY\"])\n",
    "st.write(\"Pinecone api key:\", st.secrets[\"PINECONE_API_KEY\"])"
   ]
  },
  {
   "cell_type": "code",
   "execution_count": 3,
   "metadata": {},
   "outputs": [
    {
     "data": {
      "text/plain": [
       "4"
      ]
     },
     "execution_count": 3,
     "metadata": {},
     "output_type": "execute_result"
    }
   ],
   "source": [
    "#loading the documents from the data directory\n",
    "directory = \"data\"\n",
    "\n",
    "def load_docs(directory):\n",
    "  loader = DirectoryLoader(directory)\n",
    "  documents = loader.load()\n",
    "  return documents\n",
    "\n",
    "documents = load_docs(directory)\n",
    "len(documents)"
   ]
  },
  {
   "cell_type": "code",
   "execution_count": 6,
   "metadata": {},
   "outputs": [
    {
     "name": "stdout",
     "output_type": "stream",
     "text": [
      "749\n"
     ]
    }
   ],
   "source": [
    "\"\"\"splitting the document into smaller chunks to ensure the size of the document is manageable and that no relevant inormation\n",
    "is missed out\"\"\"\n",
    "def split_docs(documents, chunk_size=1000, chunk_overlap=20):\n",
    "  text_splitter = RecursiveCharacterTextSplitter(chunk_size=chunk_size, chunk_overlap=chunk_overlap)\n",
    "  docs = text_splitter.split_documents(documents)\n",
    "  return docs\n",
    "\n",
    "docs = split_docs(documents)\n",
    "print(len(docs))"
   ]
  },
  {
   "cell_type": "code",
   "execution_count": 7,
   "metadata": {},
   "outputs": [
    {
     "name": "stdout",
     "output_type": "stream",
     "text": [
      "Blushing, sweating, or trembling Pounding or racing heart Stomachaches Rigid body posture or speaking with an overly soft voice Difficulty making eye contact or being around people they don’t know Feelings of self-consciousness or fear that people will judge them negatively Phobia-related disorders A phobia is an intense fear of—or aversion to—specific objects or situations. Although it can be realistic to be anxious in some circumstances, the fear people with phobias feel is out of proportion to the actual danger caused by the situation or object.\n",
      "\n",
      "People with a phobia:\n",
      "\n",
      "May have an irrational or excessive worry about encountering the feared object or situation Take active steps to avoid the feared object or situation Experience immediate intense anxiety upon encountering the feared object or situation Endure unavoidable objects and situations with intense anxiety There are several types of phobias and phobia-related disorders:\n"
     ]
    }
   ],
   "source": [
    "#displaying the page content of the splitted document\n",
    "print(docs[10].page_content)"
   ]
  },
  {
   "cell_type": "code",
   "execution_count": 8,
   "metadata": {},
   "outputs": [],
   "source": [
    "#creating embeddings by converting the splitted chunks of text into a format the the AI model can understand\n",
    "embeddings = SentenceTransformerEmbeddings(model_name=\"all-MiniLM-L6-v2\")"
   ]
  },
  {
   "cell_type": "code",
   "execution_count": 9,
   "metadata": {},
   "outputs": [
    {
     "data": {
      "text/plain": [
       "384"
      ]
     },
     "execution_count": 9,
     "metadata": {},
     "output_type": "execute_result"
    }
   ],
   "source": [
    "#checking the dimension of the embedded query\n",
    "query_result = embeddings.embed_query(\"Hello world\")\n",
    "len(query_result)"
   ]
  },
  {
   "cell_type": "code",
   "execution_count": 12,
   "metadata": {},
   "outputs": [],
   "source": [
    "#storing the embeddings in vector database pinecone\n",
    "pinecone.init(      \n",
    "\tapi_key=st.secrets[\"PINECONE_API_KEY\"],      \n",
    "\tenvironment=\"gcp-starter\"      \n",
    ")      \n",
    "index_name = \"mentalhealth-chatbot\"\n",
    "\n",
    "index = Pinecone.from_documents(docs, embeddings, index_name=index_name) "
   ]
  },
  {
   "cell_type": "code",
   "execution_count": 13,
   "metadata": {},
   "outputs": [
    {
     "data": {
      "text/plain": [
       "['mentalhealth-chatbot']"
      ]
     },
     "execution_count": 13,
     "metadata": {},
     "output_type": "execute_result"
    }
   ],
   "source": [
    "pinecone.init(api_key=st.secrets[\"PINECONE_API_KEY\"], environment=\"gcp-starter\")\n",
    "pinecone.list_indexes()"
   ]
  },
  {
   "cell_type": "code",
   "execution_count": 14,
   "metadata": {},
   "outputs": [
    {
     "data": {
      "text/plain": [
       "[Document(page_content='Collapse All What is depression? Depression is a mental health illness when someone feels sad (including crying often), empty, or hopeless most of the time (or loses interest in or takes no pleasure in daily activities) for at least 2 weeks. Depression affects a person’s ability to work, go to school, or have relationships with friends and family. Depression is one of the most common mental health conditions in the United States.2 It is an illness that involves the body, mood, and thoughts. It can affect the way you eat and sleep, the way you feel about yourself, and the way you think about things.\\n\\nIt is different from feeling “blue” or “down” or just sad for a few hours or a couple of days. Depression is also different from grief over losing a loved one or experiencing sadness after a trauma or difficult event. It is not a condition that can be willed or wished away. People who have depression cannot just “pull themselves” out of it.', metadata={'source': 'data\\\\depression.txt'})]"
      ]
     },
     "execution_count": 14,
     "metadata": {},
     "output_type": "execute_result"
    }
   ],
   "source": [
    "#accessing the embedding by using the similarity search function\n",
    "def get_similar_docs(query, k=1, score= False):\n",
    "  if score:\n",
    "    similar_docs = index.similarity_search_with_score(query, k=k)\n",
    "  else:\n",
    "    similar_docs = index.similarity_search(query, k=k)\n",
    "  return similar_docs\n",
    "\n",
    "query = \"What is depression\"\n",
    "similar_docs = get_similar_docs(query)\n",
    "similar_docs"
   ]
  },
  {
   "attachments": {},
   "cell_type": "markdown",
   "metadata": {},
   "source": []
  }
 ],
 "metadata": {
  "kernelspec": {
   "display_name": "araenv",
   "language": "python",
   "name": "python3"
  },
  "language_info": {
   "codemirror_mode": {
    "name": "ipython",
    "version": 3
   },
   "file_extension": ".py",
   "mimetype": "text/x-python",
   "name": "python",
   "nbconvert_exporter": "python",
   "pygments_lexer": "ipython3",
   "version": "3.11.4"
  },
  "orig_nbformat": 4
 },
 "nbformat": 4,
 "nbformat_minor": 2
}
